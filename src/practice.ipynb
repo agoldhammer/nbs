{
 "cells": [
  {
   "cell_type": "code",
   "execution_count": 36,
   "metadata": {},
   "outputs": [],
   "source": [
    "# sphinx_gallery_thumbnail_number = 2\n",
    "#%%\n",
    "import pyvista as pv\n",
    "import numpy as np"
   ]
  },
  {
   "cell_type": "code",
   "execution_count": null,
   "metadata": {},
   "outputs": [],
   "source": [
    "s = pv.Sphere()\n",
    "phi = [0, np.pi/8, np.pi/4]\n",
    "print(phi)\n",
    "def pt_from_phi(phi):\n",
    "    return pv.spherical_to_cartesian(0.5, phi, 0)\n",
    "pts = [pt_from_phi(ph) for ph in phi]\n",
    "print(pts)\n",
    "points = pv.PolyData(pts)\n",
    "plotter = pv.Plotter()\n",
    "plotter.add_points(points, style = \"points\", color = \"red\", render_points_as_spheres=True, point_size=15)\n",
    "plotter.add_mesh(s, show_edges=True)\n",
    "plotter.show()\n",
    "\n",
    "\n"
   ]
  },
  {
   "cell_type": "code",
   "execution_count": null,
   "metadata": {},
   "outputs": [],
   "source": [
    "phi = np.linspace(0, 45, 5)\n",
    "phi = np.deg2rad(phi)\n",
    "# print(\"phi phi.dtype\", phi, phi.dtype, phi.shape)\n",
    "\n",
    "\n",
    "def phi2pt(ph):\n",
    "    return pv.spherical_to_cartesian(0.5, ph, 0)\n",
    "\n",
    "\n",
    "pts = np.apply_along_axis(phi2pt, 0, phi).T\n",
    "print(\"pts\", pts)\n",
    "s = pv.Sphere()\n",
    "plotter = pv.Plotter()\n",
    "plotter.add_mesh(s, show_edges=True)\n",
    "points = pv.PolyData(pts)\n",
    "plotter.add_points(\n",
    "    points, style=\"points\", color=\"blue\", render_points_as_spheres=True, point_size=15\n",
    ")\n",
    "plotter.show()\n"
   ]
  },
  {
   "cell_type": "code",
   "execution_count": null,
   "metadata": {},
   "outputs": [],
   "source": [
    "srot = s.rotate_x(30, inplace=True)\n",
    "srot.color = \"red\"\n",
    "# plotter.add_mesh(srot, show_edges=True)\n",
    "plotter.show()"
   ]
  }
 ],
 "metadata": {
  "kernelspec": {
   "display_name": ".tut21",
   "language": "python",
   "name": "python3"
  },
  "language_info": {
   "codemirror_mode": {
    "name": "ipython",
    "version": 3
   },
   "file_extension": ".py",
   "mimetype": "text/x-python",
   "name": "python",
   "nbconvert_exporter": "python",
   "pygments_lexer": "ipython3",
   "version": "3.12.7"
  }
 },
 "nbformat": 4,
 "nbformat_minor": 2
}
